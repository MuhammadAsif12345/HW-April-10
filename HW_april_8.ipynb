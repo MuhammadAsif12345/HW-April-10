{
  "nbformat": 4,
  "nbformat_minor": 0,
  "metadata": {
    "colab": {
      "name": "HW april 8",
      "provenance": []
    },
    "kernelspec": {
      "name": "python3",
      "display_name": "Python 3"
    },
    "language_info": {
      "name": "python"
    }
  },
  "cells": [
    {
      "cell_type": "code",
      "execution_count": null,
      "metadata": {
        "id": "yRxvOuPaaMQt"
      },
      "outputs": [],
      "source": [
        ""
      ]
    },
    {
      "cell_type": "code",
      "source": [
        "#Create functions to do the following: max, min, average, standard deviation, and geometric average. \n",
        "import numpy as np\n",
        "import math as m\n",
        "\n",
        "def theMax(numbers):\n",
        "  my_max = numbers[0]\n",
        "  for i in numbers:\n",
        "    if my_max < i:\n",
        "      my_max = i\n",
        "  return my_max\n",
        "\n",
        "def theMin(numbers):\n",
        "  my_min = numbers[0]\n",
        "  for i in numbers:\n",
        "    if my_min > i:\n",
        "      my_min = i\n",
        "  return my_min\n",
        "\n",
        "def theAverage(numbers):\n",
        "  total = 0\n",
        "  for i in numbers:\n",
        "    total += i\n",
        "  return total/len(numbers)\n",
        "def theGeoMean(numbers):\n",
        "  total = 1\n",
        "  for i in numbers:\n",
        "    total *= i\n",
        "  return total**(1/len(numbers))\n",
        "\n",
        "def theStandardDev(numbers):\n",
        "  theAvg = theAverage(numbers)\n",
        "  total = 0\n",
        "  for i in numbers:\n",
        "    total = total + (i-theAvg)**2\n",
        "  return m.sqrt(total/(len(numbers)-1)) \n",
        "\n",
        "a = [8,6,2,9,13,3]\n",
        "print(theMax(a))\n",
        "print(theGeoMean(a))\n",
        "print(theStandardDev(a))"
      ],
      "metadata": {
        "colab": {
          "base_uri": "https://localhost:8080/"
        },
        "id": "69j474dpnT8S",
        "outputId": "a454f07b-c9d6-4d87-a63d-dc890f58f4c1"
      },
      "execution_count": null,
      "outputs": [
        {
          "output_type": "stream",
          "name": "stdout",
          "text": [
            "13\n",
            "5.683245170896967\n",
            "4.070217029430577\n"
          ]
        }
      ]
    },
    {
      "cell_type": "code",
      "source": [
        "# Create a function that asks the user which shape they would like to analyze.\n",
        "# It should then call other functions based on this and return the area of the shape.\n",
        "# The triangle function should take in the base and height, the circle function should take in the radius,\n",
        "# and the square function should take in the side length.\n",
        "\n",
        "def circleArea(radius):\n",
        "  return m.pi*radius**2\n",
        "\n",
        "def rectangleArea(length, width):\n",
        "  return length*width\n",
        "\n",
        "def squareArea(side):\n",
        "  return side*side\n",
        "\n",
        "def triangleArea(base, height):\n",
        "  return base*height/2\n",
        "\n",
        "def generalArea():\n",
        "  value = input(\"Which would you like to know the area of [circle, square, rectangle, triangle]\")\n",
        "  if value is 'circle':\n",
        "    radius = float(input(\"what's the radius?\"))\n",
        "    print(f\"The area is {circleArea(radius)}.\")\n",
        "  \n",
        "\n",
        "\n"
      ],
      "metadata": {
        "id": "kSWB9Pxurocb"
      },
      "execution_count": null,
      "outputs": []
    },
    {
      "cell_type": "code",
      "source": [
        "#Create a function that takes in a list and returns the list doubled.\n",
        "#It should ask the user for option one or two. If the user chooses option one it should return the list doubled such as [1 2 3] becoming [1 2 3 1 2 3],\n",
        "#if the user chooses option two then is should return the list such as [1 2 3] becoming [2 4 6].\n",
        "\n",
        "  \n",
        "\n",
        "  def listDoubling():\n",
        "    x = [1,2,3]\n",
        "    y = [1,2,3]\n",
        "    choice = int(input(\"Would you like it doubled by way one (1) or way two (2)?\")\n",
        "    if choice == 1:\n",
        "      print(x+y)\n",
        "    else:\n",
        "      print(np.array(x)+ np.array(y))\n",
        "\n",
        "listDoubling\n"
      ],
      "metadata": {
        "colab": {
          "base_uri": "https://localhost:8080/",
          "height": 130
        },
        "id": "dKR1Z58tvvkh",
        "outputId": "2861aee2-a234-4f8d-c175-c5adf6b343de"
      },
      "execution_count": null,
      "outputs": [
        {
          "output_type": "error",
          "ename": "SyntaxError",
          "evalue": "ignored",
          "traceback": [
            "\u001b[0;36m  File \u001b[0;32m\"<ipython-input-7-1c5cd7aef3f4>\"\u001b[0;36m, line \u001b[0;32m9\u001b[0m\n\u001b[0;31m    if choice == 1:\u001b[0m\n\u001b[0m                  ^\u001b[0m\n\u001b[0;31mSyntaxError\u001b[0m\u001b[0;31m:\u001b[0m invalid syntax\n"
          ]
        }
      ]
    },
    {
      "cell_type": "code",
      "source": [
        "#Create a function that takes in two lists and concatenates the numbers in those lists. For instance, if we have [1 2 3] and [7 8 9], we should return [17 28 39].\n",
        "def concatenatePositions(list1, list2):\n",
        "  myBigList = []\n",
        "  for i in range(len(list1)):\n",
        "    myBigList.append(float(str(list1[i]+str(list2[i])))\n",
        "  return myBigList\n",
        "\n",
        "list1 = [1,2,3]\n",
        "list2 = [7,8,9]\n",
        "bigList = concatenatePositions(list1,list2)\n",
        "print(bigList)"
      ],
      "metadata": {
        "colab": {
          "base_uri": "https://localhost:8080/",
          "height": 130
        },
        "id": "bQ7bUZaRxgzG",
        "outputId": "302c67b5-cf8e-4acf-dd90-c50c2083d98d"
      },
      "execution_count": null,
      "outputs": [
        {
          "output_type": "error",
          "ename": "SyntaxError",
          "evalue": "ignored",
          "traceback": [
            "\u001b[0;36m  File \u001b[0;32m\"<ipython-input-24-fb7ea874606b>\"\u001b[0;36m, line \u001b[0;32m6\u001b[0m\n\u001b[0;31m    return myBigList\u001b[0m\n\u001b[0m         ^\u001b[0m\n\u001b[0;31mSyntaxError\u001b[0m\u001b[0;31m:\u001b[0m invalid syntax\n"
          ]
        }
      ]
    },
    {
      "cell_type": "code",
      "source": [
        "#Create a function that returns a list of primes up until the number passed in. So if 100 is passed in, it should return all the primes up until 100.\n",
        "\n",
        "def isPrime(num):\n",
        "  for i in range(2,num):\n",
        "    if (num%i == 0):\n",
        "      return False\n",
        "  return True\n",
        "\n",
        "def listPrimes(amount):\n",
        "  myList = []\n",
        "  count = 0\n",
        "  checkVal = 2\n",
        "  while (count < amount):\n",
        "    if(isPrime(checkVal)):\n",
        "      myList.append(checkVal)\n",
        "      count += 1\n",
        "    checkVal += 1\n",
        "  return myList\n",
        "print(listPrimes(100))\n",
        "\n"
      ],
      "metadata": {
        "colab": {
          "base_uri": "https://localhost:8080/"
        },
        "id": "gBM_8o1vzVR5",
        "outputId": "36b14f28-989d-430c-827c-e4d3ac7354ab"
      },
      "execution_count": null,
      "outputs": [
        {
          "output_type": "stream",
          "name": "stdout",
          "text": [
            "[2, 3, 5, 7, 11, 13, 17, 19, 23, 29, 31, 37, 41, 43, 47, 53, 59, 61, 67, 71, 73, 79, 83, 89, 97, 101, 103, 107, 109, 113, 127, 131, 137, 139, 149, 151, 157, 163, 167, 173, 179, 181, 191, 193, 197, 199, 211, 223, 227, 229, 233, 239, 241, 251, 257, 263, 269, 271, 277, 281, 283, 293, 307, 311, 313, 317, 331, 337, 347, 349, 353, 359, 367, 373, 379, 383, 389, 397, 401, 409, 419, 421, 431, 433, 439, 443, 449, 457, 461, 463, 467, 479, 487, 491, 499, 503, 509, 521, 523, 541]\n"
          ]
        }
      ]
    },
    {
      "cell_type": "code",
      "source": [
        "#Write a function calculation() such that it can accept two variables and calculate the multiplication and divison of it.\n",
        "#And also it must return both results in a single return call\n",
        "\n",
        "def calculation(one, two):\n",
        "  return one*two,one/two\n",
        "\n",
        "myVal = calculation(9,2)\n",
        "print(myVal[0])\n",
        "print(myVal[1])\n"
      ],
      "metadata": {
        "colab": {
          "base_uri": "https://localhost:8080/"
        },
        "id": "HEbY4B8z1Db9",
        "outputId": "18e3513a-7ce4-4508-e7f8-697c014ae8c1"
      },
      "execution_count": null,
      "outputs": [
        {
          "output_type": "stream",
          "name": "stdout",
          "text": [
            "18\n",
            "4.5\n"
          ]
        }
      ]
    },
    {
      "cell_type": "code",
      "source": [
        "#If we list all the natural numbers below 10 that are multiples of 3 or 5, we get 3, 5, 6 and 9. \n",
        "#The sum of these multiples is 23.Find the sum of all the multiples of 3 or 5 below 1000.\n",
        "myList = []\n",
        "for i in range(1000):\n",
        "  if (i%3 == 0) or (i%5 == 0):\n",
        "    myList.append(i)\n",
        "\n",
        "total = 0\n",
        "for i in myList:\n",
        "  total = total +i\n",
        "\n",
        "print(total)\n"
      ],
      "metadata": {
        "colab": {
          "base_uri": "https://localhost:8080/"
        },
        "id": "Pgs1NY3e1ht8",
        "outputId": "12215d07-5e58-416f-d01d-d04bd37ec9b6"
      },
      "execution_count": null,
      "outputs": [
        {
          "output_type": "stream",
          "name": "stdout",
          "text": [
            "233168\n"
          ]
        }
      ]
    },
    {
      "cell_type": "code",
      "source": [
        "#Find the sum of the even valued Fibonacci numbers below 500.\n",
        "\n",
        "bound = 500\n",
        "numOne = 1\n",
        "numTwo = 1\n",
        "numThree = numOne + numTwo\n",
        "total = 0\n",
        "\n",
        "while numThree < bound:\n",
        "  numThree = numOne + numTwo\n",
        "  if numThree%2 == 0 and numThree < bound:\n",
        "    total += numThree\n",
        "  numOne = numTwo\n",
        "  numTwo = numThree\n",
        "\n",
        "print(total)\n"
      ],
      "metadata": {
        "colab": {
          "base_uri": "https://localhost:8080/"
        },
        "id": "c91xPtB_2duB",
        "outputId": "1b390af6-772b-4b51-d4be-a083bfcdde9b"
      },
      "execution_count": null,
      "outputs": [
        {
          "output_type": "stream",
          "name": "stdout",
          "text": [
            "188\n"
          ]
        }
      ]
    }
  ]
}